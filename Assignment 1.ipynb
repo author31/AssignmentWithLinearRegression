{
 "cells": [
  {
   "cell_type": "code",
   "execution_count": 184,
   "metadata": {},
   "outputs": [],
   "source": [
    "import pandas as pd\n",
    "import numpy as np\n",
    "import matplotlib.pyplot as plt"
   ]
  },
  {
   "cell_type": "code",
   "execution_count": 185,
   "metadata": {},
   "outputs": [],
   "source": [
    "df = pd.read_csv(\"data1.csv\")"
   ]
  },
  {
   "cell_type": "code",
   "execution_count": 186,
   "metadata": {},
   "outputs": [],
   "source": [
    "X = df.iloc[:,0]\n",
    "y = df.iloc[:,-1]"
   ]
  },
  {
   "cell_type": "markdown",
   "metadata": {},
   "source": [
    "Split into train test and test set"
   ]
  },
  {
   "cell_type": "code",
   "execution_count": 187,
   "metadata": {},
   "outputs": [],
   "source": [
    "def train_test_split(x,y,rate):\n",
    "    xTrain = x[:int(round((len(x)*rate),2))]\n",
    "    yTrain = y[:int(round((len(y)*rate),2))]\n",
    "    xTest =  x[int(round((len(x)*rate),2)):]\n",
    "    yTest = x[int(round((len(x)*rate),2)):]\n",
    "    return xTrain,xTest,yTrain,yTest"
   ]
  },
  {
   "cell_type": "code",
   "execution_count": 188,
   "metadata": {},
   "outputs": [],
   "source": [
    "xTrain,xTest,yTrain,yTest = train_test_split(X,y,0.3)"
   ]
  },
  {
   "cell_type": "code",
   "execution_count": 189,
   "metadata": {
    "collapsed": true
   },
   "outputs": [
    {
     "data": {
      "text/plain": [
       "<matplotlib.collections.PathCollection at 0x1f509678198>"
      ]
     },
     "execution_count": 189,
     "metadata": {},
     "output_type": "execute_result"
    },
    {
     "data": {
      "image/png": "[encoded data removed]",
      "text/plain": [
       "<Figure size 432x288 with 1 Axes>"
      ]
     },
     "metadata": {
      "needs_background": "light"
     },
     "output_type": "display_data"
    }
   ],
   "source": [
    "plt.scatter(X,y)"
   ]
  },
  {
   "cell_type": "markdown",
   "metadata": {},
   "source": [
    "coding linear regression model"
   ]
  },
  {
   "cell_type": "code",
   "execution_count": 481,
   "metadata": {},
   "outputs": [],
   "source": [
    "def linearRegression(x,y):\n",
    "    #calculate coefficients m and b\n",
    "    n = 0\n",
    "    d = 0\n",
    "    x = np.array(x)\n",
    "    y = np.array(y)\n",
    "    xBar = np.sum(x)/x.size\n",
    "    yBar = np.sum(y)/y.size\n",
    "    for i,z in zip(x,y):\n",
    "        n += (i-xBar)*(z-yBar)\n",
    "        d += (i-xBar)**2\n",
    "        m = n/d\n",
    "        b = yBar -m*xBar\n",
    "        b = round(b,2)\n",
    "    return m,b"
   ]
  },
  {
   "cell_type": "markdown",
   "metadata": {},
   "source": [
    "return two coefficients m and b"
   ]
  },
  {
   "cell_type": "code",
   "execution_count": 396,
   "metadata": {},
   "outputs": [],
   "source": [
    "m,b = linearRegression(xTrain,yTrain)"
   ]
  },
  {
   "cell_type": "markdown",
   "metadata": {},
   "source": [
    "predict the model"
   ]
  },
  {
   "cell_type": "code",
   "execution_count": 397,
   "metadata": {},
   "outputs": [],
   "source": [
    "regressionLine = [m*i+b for i in xTrain]"
   ]
  },
  {
   "cell_type": "code",
   "execution_count": 398,
   "metadata": {
    "collapsed": true
   },
   "outputs": [
    {
     "data": {
      "image/png": "[encoded data removed]",
      "text/plain": [
       "<Figure size 432x288 with 1 Axes>"
      ]
     },
     "metadata": {
      "needs_background": "light"
     },
     "output_type": "display_data"
    }
   ],
   "source": [
    "plt.scatter(X,y)\n",
    "plt.plot(xTrain,regressionLine)\n",
    "plt.show()"
   ]
  },
  {
   "cell_type": "markdown",
   "metadata": {},
   "source": [
    "calculate the rSquare"
   ]
  },
  {
   "cell_type": "code",
   "execution_count": 392,
   "metadata": {},
   "outputs": [],
   "source": [
    "def sumSquared(y,yInput):\n",
    "    return np.sum((y-yInput)**2)"
   ]
  },
  {
   "cell_type": "code",
   "execution_count": 393,
   "metadata": {},
   "outputs": [],
   "source": [
    "def rSquared(y,yhat):\n",
    "    yBar = np.sum(y)/y.size\n",
    "    squareYHat = sumSquared(y,yhat)\n",
    "    squareYBar = sumSquared(y,yBar)\n",
    "    return 1-(squareYHat/squareYBar)"
   ]
  },
  {
   "cell_type": "code",
   "execution_count": 404,
   "metadata": {},
   "outputs": [
    {
     "data": {
      "text/plain": [
       "0.9255973222338596"
      ]
     },
     "execution_count": 404,
     "metadata": {},
     "output_type": "execute_result"
    }
   ],
   "source": [
    "rSquared(yTrain,regressionLine)"
   ]
  },
  {
   "cell_type": "markdown",
   "metadata": {},
   "source": [
    "Use gradient descent to find the optimal point"
   ]
  },
  {
   "cell_type": "code",
   "execution_count": 469,
   "metadata": {},
   "outputs": [],
   "source": [
    "def GD(mCurrent,bCurrent,learningRates):\n",
    "    for i,z in zip(xTrain,yTrain):\n",
    "        yhat = mCurrent*i +bCurrent\n",
    "        error = sumSquared(z,yhat)\n",
    "        mCurrent += error*i*learningRates/xTrain.size\n",
    "        bCurrent += error*learningRates/xTrain.size\n",
    "    return mCurrent,bCurrent"
   ]
  },
  {
   "cell_type": "code",
   "execution_count": 470,
   "metadata": {},
   "outputs": [
    {
     "data": {
      "text/plain": [
       "(3.490608869731127, 7.390005518910726)"
      ]
     },
     "execution_count": 470,
     "metadata": {},
     "output_type": "execute_result"
    }
   ],
   "source": [
    "GD(m,b,0.000000005)"
   ]
  },
  {
   "cell_type": "code",
   "execution_count": 471,
   "metadata": {},
   "outputs": [],
   "source": [
    "mNew,bNew=GD(m,b,0.0000005)"
   ]
  },
  {
   "cell_type": "code",
   "execution_count": 478,
   "metadata": {},
   "outputs": [],
   "source": [
    "newRegression = [mNew*i +bNew for i in X]"
   ]
  },
  {
   "cell_type": "markdown",
   "metadata": {},
   "source": [
    "predict new data points from the above algorithm "
   ]
  },
  {
   "cell_type": "code",
   "execution_count": 480,
   "metadata": {
    "collapsed": true
   },
   "outputs": [
    {
     "data": {
      "text/plain": [
       "[386.4244643164319,\n",
       " 74.0724423416581,\n",
       " 53.01500265796549,\n",
       " 442.57763680627886,\n",
       " 147.77348123458228,\n",
       " 207.43622700504469,\n",
       " 88.11073546411986,\n",
       " 56.52457593858093,\n",
       " 165.32134763765944,\n",
       " 42.486282816119186,\n",
       " 24.938416413042006,\n",
       " 175.85006747950575,\n",
       " 45.99585609673462,\n",
       " 88.11073546411986,\n",
       " 31.95756297427288,\n",
       " 14.409696571195699,\n",
       " 91.62030874473528,\n",
       " 28.44798969365744,\n",
       " 17.919269851811134,\n",
       " 88.11073546411986,\n",
       " 28.44798969365744,\n",
       " 38.97670953550375,\n",
       " 38.97670953550375,\n",
       " 17.919269851811134,\n",
       " 109.16817514781246,\n",
       " 31.95756297427288,\n",
       " 21.42884313242657,\n",
       " 77.58201562227354,\n",
       " 31.95756297427288,\n",
       " 21.42884313242657,\n",
       " 7.390550009964827,\n",
       " 95.12988202535072,\n",
       " 28.44798969365744,\n",
       " 24.938416413042006,\n",
       " 84.60116218350441,\n",
       " 45.99585609673462,\n",
       " 221.47452012750642,\n",
       " 49.505429377350055,\n",
       " 21.42884313242657,\n",
       " 63.5437224998118,\n",
       " 53.01500265796549,\n",
       " 217.964946846891,\n",
       " 151.2830545151977,\n",
       " 137.24476139273597,\n",
       " 200.4170804438138,\n",
       " 151.2830545151977,\n",
       " 45.99585609673462,\n",
       " 102.1490285865816,\n",
       " 35.46713625488832,\n",
       " 17.919269851811134,\n",
       " 67.05329578042723,\n",
       " 53.01500265796549,\n",
       " 53.01500265796549,\n",
       " 60.034149219196365,\n",
       " 35.46713625488832,\n",
       " 109.16817514781246,\n",
       " 112.6777484284279,\n",
       " 91.62030874473528,\n",
       " 38.97670953550375,\n",
       " 116.18732170904333,\n",
       " 56.52457593858093,\n",
       " 193.39793388258295,\n",
       " 98.63945530596615]"
      ]
     },
     "execution_count": 480,
     "metadata": {},
     "output_type": "execute_result"
    }
   ],
   "source": [
    "newRegression "
   ]
  },
  {
   "cell_type": "markdown",
   "metadata": {},
   "source": [
    "Final model"
   ]
  },
  {
   "cell_type": "code",
   "execution_count": 496,
   "metadata": {},
   "outputs": [],
   "source": [
    "def linearRegression(x,y):\n",
    "    #calculate coefficients m and b\n",
    "    newPoint = []\n",
    "    n = 0\n",
    "    d = 0\n",
    "    x = np.array(x)\n",
    "    y = np.array(y)\n",
    "    xBar = np.sum(x)/x.size\n",
    "    yBar = np.sum(y)/y.size\n",
    "    for i,z in zip(x,y):\n",
    "        n += (i-xBar)*(z-yBar)\n",
    "        d += (i-xBar)**2\n",
    "        m = n/d\n",
    "        b = yBar -m*xBar\n",
    "        b = round(b,2)\n",
    "        yHat = m*i+b\n",
    "        \n",
    "        squareYHat = sumSquared(y,yHat)\n",
    "        squareYBar = sumSquared(y,yBar)\n",
    "        rSquared = 1-(squareYHat/squareYBar)\n",
    "        newPoint.append(yHat)\n",
    "    return newPoint"
   ]
  },
  {
   "cell_type": "code",
   "execution_count": 497,
   "metadata": {},
   "outputs": [
    {
     "data": {
      "text/plain": [
       "[392.5017291550083,\n",
       " 84.59736018192802,\n",
       " 63.082168712849054,\n",
       " 436.5432935835679,\n",
       " 154.8173438433146,\n",
       " 208.67060457412944,\n",
       " 98.4935260523669,\n",
       " 69.36887435253715,\n",
       " 170.80354061630862,\n",
       " 55.86083686975418,\n",
       " 39.16314036028385,\n",
       " 182.95502588880055,\n",
       " 57.73468924885292,\n",
       " 98.51089008904233,\n",
       " 44.207494968792204,\n",
       " 26.817904072628735,\n",
       " 101.92507451999266,\n",
       " 40.585206333538025,\n",
       " 29.90234384488584,\n",
       " 98.50939695640429,\n",
       " 39.86944120844488,\n",
       " 50.20752289501195,\n",
       " 50.217163658550234,\n",
       " 29.240890249322128,\n",
       " 119.2786238658944,\n",
       " 43.53518369111622,\n",
       " 32.90347051869806,\n",
       " 88.16323518861137,\n",
       " 43.1158770607174,\n",
       " 32.81255330916002,\n",
       " 18.58,\n",
       " 105.46093526575459,\n",
       " 39.20408684021126,\n",
       " 35.77910846324314,\n",
       " 95.03659848870393,\n",
       " 56.71585306890768,\n",
       " 230.1778712528644,\n",
       " 60.39763563694194,\n",
       " 32.40719908392971,\n",
       " 74.1366362806042,\n",
       " 63.77699394335998,\n",
       " 225.88445369298591,\n",
       " 160.71026202814647,\n",
       " 146.92315106753924,\n",
       " 207.6222274678755,\n",
       " 158.97852694002626,\n",
       " 58.028512491132375,\n",
       " 111.99606103369965,\n",
       " 48.14132830177796,\n",
       " 31.4570260328262,\n",
       " 78.4598850128339,\n",
       " 65.18558912131621,\n",
       " 65.07876139950642,\n",
       " 71.68905271083669,\n",
       " 48.27841873059822,\n",
       " 118.61797127097435,\n",
       " 122.07354181098135,\n",
       " 101.87991999540856,\n",
       " 51.5672200057608,\n",
       " 125.49973824815116,\n",
       " 68.21039728208372,\n",
       " 200.71045434755428,\n",
       " 108.74941256172552]"
      ]
     },
     "execution_count": 497,
     "metadata": {},
     "output_type": "execute_result"
    }
   ],
   "source": [
    "linearRegression(X,y)"
   ]
  },
  {
   "cell_type": "code",
   "execution_count": null,
   "metadata": {},
   "outputs": [],
   "source": []
  }
 ],
 "metadata": {
  "kernelspec": {
   "display_name": "Python 3",
   "language": "python",
   "name": "python3"
  },
  "language_info": {
   "codemirror_mode": {
    "name": "ipython",
    "version": 3
   },
   "file_extension": ".py",
   "mimetype": "text/x-python",
   "name": "python",
   "nbconvert_exporter": "python",
   "pygments_lexer": "ipython3",
   "version": "3.7.1"
  }
 },
 "nbformat": 4,
 "nbformat_minor": 2
}
